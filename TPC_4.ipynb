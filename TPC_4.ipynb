{
 "cells": [
  {
   "cell_type": "markdown",
   "metadata": {},
   "source": [
    "# Manifesto"
   ]
  },
  {
   "cell_type": "markdown",
   "metadata": {},
   "source": [
    "***"
   ]
  },
  {
   "cell_type": "markdown",
   "metadata": {},
   "source": [
    ">__KEY NAME:__ TPC4   \n",
    ">__TITLE:__ \"Aplicação para trabalhar com funções\"   \n",
    ">__SUBTITLE:__ Manifesto inserido na UC Algoritmos e Técnicas de Programação\n",
    "\n",
    ">__BEGIN DATE:__ 2021-10-31 \n",
    ">__END DATE:__ 2021-11-01\n",
    "\n",
    ">__SUPERVISOR:__ [Professor José Carlos Ramalho](https://www.di.uminho.pt/~jcr/)\n",
    "\n",
    ">__AUTHOR:__ Andreia Martins, A95242"
   ]
  },
  {
   "cell_type": "markdown",
   "metadata": {},
   "source": [
    "***"
   ]
  },
  {
   "cell_type": "markdown",
   "metadata": {},
   "source": [
    "#### RESUMO:\n",
    "Este trabalho, realizado na linguagem __python__, é um conjunto de algoritmos que resolve o problema proposto para TPC4, o desenvolvimento de uma aplicação capaz de trabalhar e efetuar operações básicas quer com funções quer com uma lista de funções.\n",
    "\n",
    "Ao iniciar o programa, é chamado um *menu* que mostra as __10__ opções que o utilizador pode escolher, sendo que, ao escolher a opção __(0)__, a aplicação é encerrada. As restantes funcionalidades permitem:\n",
    "> __(1)__: Cria uma fração manualmente ou aleatoriamente;   \n",
    "> __(2)__: Simplifica uma fração;   \n",
    "> __(3)__: Somar;   \n",
    "> __(4)__: Subtrair;   \n",
    "> __(5)__: Multiplicar;   \n",
    "> __(6)__: Dividir;  \n",
    "> __(7)__: Gerar uma lista de n frações;  \n",
    "> __(8)__: Somar as frações de uma lista;   \n",
    "> __(9)__: Identifica a maior fração de uma lista;   \n",
    "\n",
    "***"
   ]
  },
  {
   "cell_type": "markdown",
   "metadata": {},
   "source": [
    "#### CÓDIGO:"
   ]
  },
  {
   "cell_type": "code",
   "execution_count": null,
   "metadata": {},
   "outputs": [],
   "source": []
  }
 ],
 "metadata": {
  "kernelspec": {
   "display_name": "Python 3",
   "language": "python",
   "name": "python3"
  },
  "language_info": {
   "codemirror_mode": {
    "name": "ipython",
    "version": 3
   },
   "file_extension": ".py",
   "mimetype": "text/x-python",
   "name": "python",
   "nbconvert_exporter": "python",
   "pygments_lexer": "ipython3",
   "version": "3.8.3"
  }
 },
 "nbformat": 4,
 "nbformat_minor": 4
}
