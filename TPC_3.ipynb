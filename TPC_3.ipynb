{
 "cells": [
  {
   "cell_type": "markdown",
   "metadata": {},
   "source": [
    "   # Manifesto"
   ]
  },
  {
   "cell_type": "markdown",
   "metadata": {},
   "source": [
    "***"
   ]
  },
  {
   "cell_type": "markdown",
   "metadata": {},
   "source": [
    ">__KEY NAME:__ TPC3   \n",
    ">__TITLE:__ \"Bubble Sort\"   \n",
    ">__SUBTITLE:__ Manifesto inserido na UC Algoritmos e Técnicas de Programação\n",
    "\n",
    ">__BEGIN DATE:__ 2021-10-18 \n",
    ">__END DATE:__ 2021-20-24\n",
    "\n",
    ">__SUPERVISOR:__ [Professor José Carlos Ramalho](https://www.di.uminho.pt/~jcr/)\n",
    "\n",
    ">__AUTHOR:__ Andreia Martins, A95242"
   ]
  },
  {
   "cell_type": "markdown",
   "metadata": {},
   "source": [
    "***"
   ]
  },
  {
   "cell_type": "markdown",
   "metadata": {},
   "source": [
    "#### RESUMO:\n",
    "Este trabalho, realizado na linguagem __python__, é um conjunto de algoritmos que resolve o problema proposto para TPC3, o ordenamento de uma lista usando um processo denominado como __Bubble Sort__.\n",
    "\n",
    "Ao iniciar o programa, é chamado um *menu* que mostra as opções que o utilizador pode escolher, em que o número __4__ é o ordenamento da lista (que pode ser inserida manualmente ou gerada aleatóriamente)."
   ]
  },
  {
   "cell_type": "markdown",
   "metadata": {},
   "source": [
    "***"
   ]
  },
  {
   "cell_type": "markdown",
   "metadata": {},
   "source": [
    "#### CÓDIGO:"
   ]
  },
  {
   "cell_type": "code",
   "execution_count": null,
   "metadata": {},
   "outputs": [
    {
     "name": "stdout",
     "output_type": "stream",
     "text": [
      " Bem vindo!\n",
      "(1) Criar uma lista de inteiros manualmente;\n",
      "(2) Gerar uma lista com números aleatórios;\n",
      "(3) Ver qual é o maior número da lista;\n",
      "(4) Bubble Sort;\n",
      "(0) Sair\n",
      "           \n"
     ]
    }
   ],
   "source": [
    "# -*- coding: utf-8 -*-\n",
    "\"\"\"\n",
    "'Bubble Sort'\n",
    "Andreia Martins, A95242\n",
    "\"\"\"\n",
    "\n",
    "def menu ():\n",
    "    print (\"\"\" Bem vindo!\n",
    "(1) Criar uma lista de inteiros manualmente;\n",
    "(2) Gerar uma lista com números aleatórios;\n",
    "(3) Ver qual é o maior número da lista;\n",
    "(4) Bubble Sort;\n",
    "(0) Sair\n",
    "           \"\"\")\n",
    "\n",
    "def criarListaM():\n",
    "    n= int(input(\"introduza o número de elementos da lista: \"))\n",
    "    lista= []\n",
    "    for i in range (n):\n",
    "        elem = input (\"Introduza o elemento \" + str (i+1) + \" : \")\n",
    "        lista.append (elem)\n",
    "    return lista\n",
    "\n",
    "def criarListaA():\n",
    "    from random import randint\n",
    "    n= int(input(\"Introduza o número de elementos da lista: \"))\n",
    "    lista2= []\n",
    "    for i in range(n):\n",
    "        elem= randint (0,100)\n",
    "        lista2.append(elem)\n",
    "    return lista2\n",
    "\n",
    "def numeroMaior(l):\n",
    "    maior=l[0]\n",
    "    for i in range(len(l)):\n",
    "        if l[i]>maior:\n",
    "            maior=l[i]\n",
    "    return maior\n",
    "\n",
    "def bubbleSort (L):\n",
    "    ordenado= False\n",
    "    \n",
    "    while not ordenado:\n",
    "        ordenado = True\n",
    "        for i in range (len(L)-1):\n",
    "            if int (L[i]) > int (L[i+1]):\n",
    "                ordenado= False\n",
    "                L[i], L[i+1]= L [i+1], L [i]\n",
    "    return (L)\n",
    "\n",
    "op =\"4\"\n",
    "menu()\n",
    "while (op!= \"0\"):\n",
    "    op= input (\"Qual é a sua opção? \")\n",
    "    if op==\"1\":\n",
    "        lis= criarListaM ()\n",
    "        print (lis)\n",
    "    elif op==\"2\":\n",
    "        lis=criarListaA ()\n",
    "        print(lis)\n",
    "    elif op==\"3\":\n",
    "        try:\n",
    "            num= numeroMaior(lis)\n",
    "            print(num)\n",
    "        except:\n",
    "            print (\"Ainda não há nenhuma lista criada. \")\n",
    "    elif op==\"4\":\n",
    "        try:\n",
    "            orden = bubbleSort (lis)\n",
    "            print (orden)\n",
    "        except:\n",
    "            print (\"Ainda não há nenhuma lista criada. \")\n",
    "    elif op==\"0\":\n",
    "        print (\"Até à próxima! \")\n",
    "    else:\n",
    "        print (\"Opção inválida! \")    \n"
   ]
  },
  {
   "cell_type": "code",
   "execution_count": null,
   "metadata": {},
   "outputs": [],
   "source": []
  }
 ],
 "metadata": {
  "kernelspec": {
   "display_name": "Python 3",
   "language": "python",
   "name": "python3"
  },
  "language_info": {
   "codemirror_mode": {
    "name": "ipython",
    "version": 3
   },
   "file_extension": ".py",
   "mimetype": "text/x-python",
   "name": "python",
   "nbconvert_exporter": "python",
   "pygments_lexer": "ipython3",
   "version": "3.8.3"
  }
 },
 "nbformat": 4,
 "nbformat_minor": 4
}
