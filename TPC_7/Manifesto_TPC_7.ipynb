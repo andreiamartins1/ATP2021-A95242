{
 "cells": [
  {
   "cell_type": "markdown",
   "metadata": {},
   "source": [
    "# Manifesto"
   ]
  },
  {
   "cell_type": "markdown",
   "metadata": {},
   "source": [
    "***"
   ]
  },
  {
   "cell_type": "markdown",
   "metadata": {},
   "source": [
    ">__KEY NAME:__ TPC7  \n",
    ">__TITLE:__ \"Processamento de datasets\"   \n",
    ">__SUBTITLE:__ Manifesto inserido na UC Algoritmos e Técnicas de Programação\n",
    "\n",
    ">__BEGIN DATE:__ 2021-11-25 \n",
    ">__END DATE:__ 2021-12-02\n",
    "\n",
    ">__SUPERVISOR:__ [Professor José Carlos Ramalho](https://www.di.uminho.pt/~jcr/)\n",
    "\n",
    ">__AUTHOR:__ Andreia Martins, A95242"
   ]
  },
  {
   "cell_type": "markdown",
   "metadata": {},
   "source": [
    "***"
   ]
  },
  {
   "cell_type": "markdown",
   "metadata": {},
   "source": [
    "#### RESUMO:\n",
    "Este trabalho, realizado na linguagem __python__, é um conjunto de algoritmos que, com o auxílio do módulo *matplotlib*, resolve o problema proposto para TPC7: leitura de um dataset, processamento e análise dos respetivos dados. \n",
    "\n",
    "Parte do algoritmo foi realizado em sala de aula e algumas das funções desenvolvidas como TPC são as que permitem obter :\n",
    "- distribuição por médias (quantos alunos tiveram x média);\n",
    "- distribuições em gráficos de barras (para a distribuição por curso e por média);\n",
    "***"
   ]
  },
  {
   "cell_type": "markdown",
   "metadata": {},
   "source": [
    "#### CÓDIGO:"
   ]
  },
  {
   "cell_type": "markdown",
   "metadata": {},
   "source": [
    "(encontra-se no ficheiro *TPC_7.ipynb*)"
   ]
  }
 ],
 "metadata": {
  "kernelspec": {
   "display_name": "Python 3",
   "language": "python",
   "name": "python3"
  },
  "language_info": {
   "codemirror_mode": {
    "name": "ipython",
    "version": 3
   },
   "file_extension": ".py",
   "mimetype": "text/x-python",
   "name": "python",
   "nbconvert_exporter": "python",
   "pygments_lexer": "ipython3",
   "version": "3.8.3"
  }
 },
 "nbformat": 4,
 "nbformat_minor": 4
}
