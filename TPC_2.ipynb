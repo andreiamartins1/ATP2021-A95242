{
 "cells": [
  {
   "cell_type": "markdown",
   "metadata": {},
   "source": [
    "   # Manifesto"
   ]
  },
  {
   "cell_type": "markdown",
   "metadata": {},
   "source": [
    "***"
   ]
  },
  {
   "cell_type": "markdown",
   "metadata": {},
   "source": [
    ">__KEY NAME:__ TPC2   \n",
    ">__TITLE:__\"Encontra o número!\"   \n",
    ">__SUBTITLE:__ Manifesto inserido na UC Algoritmos e Técnicas de Programação\n",
    "\n",
    ">__BEGIN DATE:__ October 2021\n",
    ">__END DATE:__ October 2021\n",
    "\n",
    ">__SUPERVISOR:__ [Professor José Carlos Ramalho](https://www.di.uminho.pt/~jcr/)\n",
    "\n",
    ">__AUTHOR:__ Andreia Martins, A95242"
   ]
  },
  {
   "cell_type": "markdown",
   "metadata": {},
   "source": [
    "***"
   ]
  },
  {
   "cell_type": "markdown",
   "metadata": {},
   "source": [
    "#### ABSTRACT:\n",
    "Este trabalho, realizado na linguagem __python__, é um conjunto de algoritmos de procura binária que permite encontrar um certo número (pensado pelo utilizador) entre 0 e 100. O conceito baseia-se em minimizar as tentativas para encontrar o número e, portanto, ao intervalo de números possível calcula-se o valor médio e questiona-se o utilizador se o número encontra-se acima ou abaixo do número sugerido.\n"
   ]
  },
  {
   "cell_type": "markdown",
   "metadata": {},
   "source": [
    "***"
   ]
  },
  {
   "cell_type": "markdown",
   "metadata": {},
   "source": [
    "#### CÓDIGO:"
   ]
  },
  {
   "cell_type": "code",
   "execution_count": null,
   "metadata": {},
   "outputs": [
    {
     "name": "stdout",
     "output_type": "stream",
     "text": [
      "\n",
      "       Pense num número de 0-100. Pode escrever uma de três respostas:\n",
      "       'igual'= se o computador acertar;\n",
      "       'maior'= se o número for maior do que o sugerido;\n",
      "       'menor'= se o número for menor do que o sugerido.\n",
      "       \n"
     ]
    }
   ],
   "source": [
    "# -*- coding: utf-8 -*-\n",
    "\"\"\"\n",
    "TPC2\n",
    "Andreia Martins\n",
    "\"\"\"\n",
    "\n",
    "tentativa= 0\n",
    "n= 0\n",
    "N=100\n",
    "print (\"\"\"\n",
    "       Pense num número de 0-100. Pode escrever uma de três respostas:\n",
    "       'igual'= se o computador acertar;\n",
    "       'maior'= se o número for maior do que o sugerido;\n",
    "       'menor'= se o número for menor do que o sugerido.\n",
    "       \"\"\")\n",
    "       \n",
    "def numero (tentativa, n, N):\n",
    "    nn= int ((n+N)//2)\n",
    "    guess= input (\"O número é \"+ str(nn)+ \"? \")\n",
    "    if (guess ==\"igual\" ):\n",
    "        tentativa= tentativa +1\n",
    "        print (\"Ganhei! Precisei de \" + str( tentativa)+ \" tentativas! \")\n",
    "    elif (guess == \"maior\"):\n",
    "        n= nn\n",
    "        tentativa = tentativa +1\n",
    "        numero(tentativa, n, N)\n",
    "    elif (guess == \"menor\"):\n",
    "        N= nn\n",
    "        tentativa = tentativa +1\n",
    "        numero(tentativa, n, N)\n",
    "    else:\n",
    "        print (\"Comando não aceite. \")\n",
    "\n",
    "numero (tentativa, n, N)\n",
    "        "
   ]
  },
  {
   "cell_type": "code",
   "execution_count": null,
   "metadata": {},
   "outputs": [],
   "source": []
  }
 ],
 "metadata": {
  "kernelspec": {
   "display_name": "Python 3",
   "language": "python",
   "name": "python3"
  },
  "language_info": {
   "codemirror_mode": {
    "name": "ipython",
    "version": 3
   },
   "file_extension": ".py",
   "mimetype": "text/x-python",
   "name": "python",
   "nbconvert_exporter": "python",
   "pygments_lexer": "ipython3",
   "version": "3.8.3"
  }
 },
 "nbformat": 4,
 "nbformat_minor": 4
}
