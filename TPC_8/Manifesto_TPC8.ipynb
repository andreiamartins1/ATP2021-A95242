{
 "cells": [
  {
   "cell_type": "markdown",
   "metadata": {},
   "source": [
    "# Manifesto"
   ]
  },
  {
   "cell_type": "markdown",
   "metadata": {},
   "source": [
    "***"
   ]
  },
  {
   "cell_type": "markdown",
   "metadata": {},
   "source": [
    ">__KEY NAME:__ TPC8  \n",
    ">__TITLE:__ \"Processamento de datasets\"   \n",
    ">__SUBTITLE:__ Manifesto inserido na UC Algoritmos e Técnicas de Programação\n",
    "\n",
    ">__BEGIN DATE:__ 2021-12-05 \n",
    ">__END DATE:__ 2021-12-06\n",
    "\n",
    ">__SUPERVISOR:__ [Professor José Carlos Ramalho](https://www.di.uminho.pt/~jcr/)\n",
    "\n",
    ">__AUTHOR:__ Andreia Martins, A95242"
   ]
  },
  {
   "cell_type": "markdown",
   "metadata": {},
   "source": [
    "***"
   ]
  },
  {
   "cell_type": "markdown",
   "metadata": {},
   "source": [
    "#### RESUMO:\n",
    "Este trabalho, realizado na linguagem __python__, é um conjunto de algoritmos que, com o auxílio da __interface gráfica__ *PySimpleGUI*, resolve o problema proposto para TPC8: leitura de um dataset, processamento, análise dos respetivos dados e a criação dinãmica de uma \"janela\" com alguns botões, nomeadamente:\n",
    "- CARREGAR;\n",
    "- LISTAR;\n",
    "- MODALIDADES;\n",
    "- DISTRIBUIÇões (POR ANO, CLUBE E POR MODALIDADES, em gráficos de barras);\n",
    "***"
   ]
  },
  {
   "cell_type": "markdown",
   "metadata": {},
   "source": [
    "#### CÓDIGO:"
   ]
  },
  {
   "cell_type": "markdown",
   "metadata": {},
   "source": [
    "(encontra-se na mesma pasta no ficheiro denominado *TPC_8.ipynb*)"
   ]
  }
 ],
 "metadata": {
  "kernelspec": {
   "display_name": "Python 3",
   "language": "python",
   "name": "python3"
  },
  "language_info": {
   "codemirror_mode": {
    "name": "ipython",
    "version": 3
   },
   "file_extension": ".py",
   "mimetype": "text/x-python",
   "name": "python",
   "nbconvert_exporter": "python",
   "pygments_lexer": "ipython3",
   "version": "3.8.3"
  }
 },
 "nbformat": 4,
 "nbformat_minor": 4
}
